{
 "cells": [
  {
   "cell_type": "raw",
   "id": "dccf8702",
   "metadata": {},
   "source": [
    "##Filmes\n",
    "\n",
    "Projeto baseado no exercício do Curso Python Fundamentos para Análise de Dados 3.0 da escola online Data Science Academy.\n",
    "Website: https://www.datascienceacademy.com.br/\n",
    "\n",
    "Dados reais do site de filmes IMDB https://www.imdb.com/interfaces/ serão usados e as seguintes perguntas serão respondidas:\n",
    "\n",
    "\n",
    "1- Qual o Número de Títulos Por Gênero?\n",
    "2- Qual o Número de Filmes Avaliados Por Gênero Em Relação ao Ano de Estréia?\n",
    "3- Qual o Número de Filmes Produzidos Por País?\n",
    "4- Quais São os Top 10 Melhores Filmes?\n",
    "5- Quais São os Top 10 Piores Filmes?\n",
    "\n",
    "Neste projeto python é usado através do Anaconda. "
   ]
  },
  {
   "cell_type": "markdown",
   "id": "9c7b8114",
   "metadata": {},
   "source": [
    "# Instalando e Carregando Pacotes"
   ]
  },
  {
   "cell_type": "code",
   "execution_count": null,
   "id": "5c7d5b98",
   "metadata": {},
   "outputs": [],
   "source": [
    "from platform import python_version #Versão da linguagem python\n",
    "print ('Versão da linguagem python usada no projeto Filmes:', python_version())"
   ]
  },
  {
   "cell_type": "markdown",
   "id": "929dbd30",
   "metadata": {},
   "source": [
    " Pacote usado: https://pypi.org/project/imdb-sqlite/ pesquisado em: https://pypi.org/"
   ]
  },
  {
   "cell_type": "code",
   "execution_count": null,
   "id": "05c2232f",
   "metadata": {},
   "outputs": [],
   "source": [
    "#Instala o pacote, -q indica instalação silenciosa\n",
    "!pip install -q imdb-sqlite "
   ]
  },
  {
   "cell_type": "markdown",
   "id": "51265d33",
   "metadata": {},
   "source": [
    "A próxima célula executa o pacote e realiza o dowload do dataset "
   ]
  },
  {
   "cell_type": "code",
   "execution_count": null,
   "id": "cd719b6e",
   "metadata": {},
   "outputs": [],
   "source": [
    "# Instala o pacote\n",
    "# https://pypi.org/project/pycountry/\n",
    "\n",
    "!pip install -q pycountry"
   ]
  },
  {
   "cell_type": "code",
   "execution_count": null,
   "id": "cd1172af",
   "metadata": {},
   "outputs": [],
   "source": [
    "# Importando\n",
    "import re\n",
    "import time\n",
    "import sqlite3\n",
    "import pycountry\n",
    "import numpy as np\n",
    "import pandas as pd\n",
    "import matplotlib.pyplot as plt\n",
    "import seaborn as sns\n",
    "from matplotlib import cm\n",
    "from sklearn.feature_extraction.text import CountVectorizer\n",
    "import warnings\n",
    "warnings.filterwarnings(\"ignore\")\n",
    "sns.set_theme(style = \"whitegrid\")"
   ]
  },
  {
   "cell_type": "markdown",
   "id": "e931b6b6",
   "metadata": {},
   "source": [
    "## Carregando os dados\n",
    "\n",
    "O comando abaixo demorou 1hr pra ser finalizado no meu computador (configuração: i5, 6gb de memória)"
   ]
  },
  {
   "cell_type": "code",
   "execution_count": null,
   "id": "90aee77b",
   "metadata": {},
   "outputs": [],
   "source": [
    "%%time\n",
    "!imdb-sqlite"
   ]
  },
  {
   "cell_type": "code",
   "execution_count": null,
   "id": "fe2eee33",
   "metadata": {},
   "outputs": [],
   "source": [
    "conn = sqlite3.connect(\"imdb.db\") #conecta ao banco de dados "
   ]
  },
  {
   "cell_type": "code",
   "execution_count": null,
   "id": "5d03feb8",
   "metadata": {},
   "outputs": [],
   "source": [
    "# Extrai a lista de tabelas\n",
    "tabelas = pd.read_sql_query(\"SELECT NAME AS 'Table_Name' FROM sqlite_master WHERE type = 'table'\", conn)"
   ]
  },
  {
   "cell_type": "code",
   "execution_count": null,
   "id": "b5bb23bb",
   "metadata": {},
   "outputs": [],
   "source": [
    "# Tipo do objeto\n",
    "type(tabelas)"
   ]
  },
  {
   "cell_type": "code",
   "execution_count": null,
   "id": "ef343861",
   "metadata": {},
   "outputs": [],
   "source": [
    "# Visualiza o resultado\n",
    "tabelas.head()"
   ]
  },
  {
   "cell_type": "code",
   "execution_count": null,
   "id": "6c2d64e8",
   "metadata": {},
   "outputs": [],
   "source": [
    "# Vamos converter o dataframe em uma lista\n",
    "tabelas = tabelas[\"Table_Name\"].values.tolist()"
   ]
  },
  {
   "cell_type": "code",
   "execution_count": null,
   "id": "4e6218a4",
   "metadata": {},
   "outputs": [],
   "source": [
    "# Vamos percorrer a lista de tabelas no banco de dados e extrair o esquema de cada uma\n",
    "for tabela in tabelas:\n",
    "    consulta = \"PRAGMA TABLE_INFO({})\".format(tabela)\n",
    "    resultado = pd.read_sql_query(consulta, conn)\n",
    "    print(\"Esquema da tabela:\", tabela)\n",
    "    display(resultado)\n",
    "    print(\"-\"*100)\n",
    "    print(\"\\n\")"
   ]
  }
 ],
 "metadata": {
  "kernelspec": {
   "display_name": "Python 3",
   "language": "python",
   "name": "python3"
  },
  "language_info": {
   "codemirror_mode": {
    "name": "ipython",
    "version": 3
   },
   "file_extension": ".py",
   "mimetype": "text/x-python",
   "name": "python",
   "nbconvert_exporter": "python",
   "pygments_lexer": "ipython3",
   "version": "3.8.8"
  }
 },
 "nbformat": 4,
 "nbformat_minor": 5
}
